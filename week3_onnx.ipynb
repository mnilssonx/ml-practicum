{
 "cells": [
  {
   "cell_type": "code",
   "execution_count": 3,
   "metadata": {},
   "outputs": [
    {
     "name": "stdout",
     "output_type": "stream",
     "text": [
      "Collecting onnx\n",
      "  Using cached https://files.pythonhosted.org/packages/5b/dc/a618db796e343aeacdf6dd0ffc672d937531bd2eba29733137df595bdfd3/onnx-1.3.0-cp36-cp36m-manylinux1_x86_64.whl\n",
      "Requirement already satisfied: typing>=3.6.4 in /home/ec2-user/anaconda3/envs/python3/lib/python3.6/site-packages (from onnx) (3.6.4)\n",
      "Collecting typing-extensions>=3.6.2.1 (from onnx)\n",
      "  Using cached https://files.pythonhosted.org/packages/62/4f/392a1fa2873e646f5990eb6f956e662d8a235ab474450c72487745f67276/typing_extensions-3.6.6-py3-none-any.whl\n",
      "Requirement already satisfied: protobuf in /home/ec2-user/anaconda3/envs/python3/lib/python3.6/site-packages (from onnx) (3.6.0)\n",
      "Requirement already satisfied: numpy in /home/ec2-user/anaconda3/envs/python3/lib/python3.6/site-packages (from onnx) (1.15.1)\n",
      "Requirement already satisfied: six in /home/ec2-user/anaconda3/envs/python3/lib/python3.6/site-packages (from onnx) (1.11.0)\n",
      "Requirement already satisfied: setuptools in /home/ec2-user/anaconda3/envs/python3/lib/python3.6/site-packages (from protobuf->onnx) (39.1.0)\n",
      "\u001b[31mdistributed 1.21.8 requires msgpack, which is not installed.\u001b[0m\n",
      "Installing collected packages: typing-extensions, onnx\n",
      "Successfully installed onnx-1.3.0 typing-extensions-3.6.6\n",
      "\u001b[33mYou are using pip version 10.0.1, however version 18.1 is available.\n",
      "You should consider upgrading via the 'pip install --upgrade pip' command.\u001b[0m\n"
     ]
    }
   ],
   "source": [
    "!pip install onnx\n",
    "import onnx"
   ]
  },
  {
   "cell_type": "markdown",
   "metadata": {},
   "source": [
    "## Log reg"
   ]
  },
  {
   "cell_type": "code",
   "execution_count": 4,
   "metadata": {},
   "outputs": [
    {
     "name": "stdout",
     "output_type": "stream",
     "text": [
      "graph torch-jit-export (\n",
      "  %0[FLOAT, 80x3]\n",
      ") initializers (\n",
      "  %1[FLOAT, 1x3]\n",
      "  %2[FLOAT, 1]\n",
      ") {\n",
      "  %3 = Gemm[alpha = 1, beta = 1, broadcast = 1, transB = 1](%0, %1, %2)\n",
      "  %4 = Sigmoid(%3)\n",
      "  return %4\n",
      "}\n"
     ]
    }
   ],
   "source": [
    "log_reg_model = onnx.load(\"log_reg.onnx\")\n",
    "print(onnx.helper.printable_graph(log_reg_model.graph))"
   ]
  },
  {
   "cell_type": "markdown",
   "metadata": {},
   "source": [
    "## Random forest"
   ]
  },
  {
   "cell_type": "code",
   "execution_count": 5,
   "metadata": {},
   "outputs": [
    {
     "name": "stdout",
     "output_type": "stream",
     "text": [
      "graph torch-jit-export (\n",
      "  %0[FLOAT, 80x3]\n",
      ") initializers (\n",
      "  %1[FLOAT, 1x3]\n",
      "  %2[FLOAT, 1]\n",
      ") {\n",
      "  %3 = Gemm[alpha = 1, beta = 1, broadcast = 1, transB = 1](%0, %1, %2)\n",
      "  %4 = Sigmoid(%3)\n",
      "  return %4\n",
      "}\n"
     ]
    }
   ],
   "source": [
    "rf_model = onnx.load(\"log_reg.onnx\")\n",
    "print(onnx.helper.printable_graph(rf_model.graph))"
   ]
  },
  {
   "cell_type": "code",
   "execution_count": null,
   "metadata": {},
   "outputs": [],
   "source": []
  }
 ],
 "metadata": {
  "kernelspec": {
   "display_name": "conda_python3",
   "language": "python",
   "name": "conda_python3"
  },
  "language_info": {
   "codemirror_mode": {
    "name": "ipython",
    "version": 3
   },
   "file_extension": ".py",
   "mimetype": "text/x-python",
   "name": "python",
   "nbconvert_exporter": "python",
   "pygments_lexer": "ipython3",
   "version": "3.6.5"
  }
 },
 "nbformat": 4,
 "nbformat_minor": 2
}
