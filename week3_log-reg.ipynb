{
 "cells": [
  {
   "cell_type": "markdown",
   "metadata": {},
   "source": [
    "## Load data"
   ]
  },
  {
   "cell_type": "code",
   "execution_count": 25,
   "metadata": {},
   "outputs": [
    {
     "data": {
      "text/html": [
       "<div>\n",
       "<style scoped>\n",
       "    .dataframe tbody tr th:only-of-type {\n",
       "        vertical-align: middle;\n",
       "    }\n",
       "\n",
       "    .dataframe tbody tr th {\n",
       "        vertical-align: top;\n",
       "    }\n",
       "\n",
       "    .dataframe thead th {\n",
       "        text-align: right;\n",
       "    }\n",
       "</style>\n",
       "<table border=\"1\" class=\"dataframe\">\n",
       "  <thead>\n",
       "    <tr style=\"text-align: right;\">\n",
       "      <th></th>\n",
       "      <th>admit</th>\n",
       "      <th>gre</th>\n",
       "      <th>gpa</th>\n",
       "      <th>rank</th>\n",
       "    </tr>\n",
       "  </thead>\n",
       "  <tbody>\n",
       "    <tr>\n",
       "      <th>0</th>\n",
       "      <td>0</td>\n",
       "      <td>380</td>\n",
       "      <td>3.61</td>\n",
       "      <td>3</td>\n",
       "    </tr>\n",
       "    <tr>\n",
       "      <th>1</th>\n",
       "      <td>1</td>\n",
       "      <td>660</td>\n",
       "      <td>3.67</td>\n",
       "      <td>3</td>\n",
       "    </tr>\n",
       "    <tr>\n",
       "      <th>2</th>\n",
       "      <td>1</td>\n",
       "      <td>800</td>\n",
       "      <td>4.00</td>\n",
       "      <td>1</td>\n",
       "    </tr>\n",
       "    <tr>\n",
       "      <th>3</th>\n",
       "      <td>1</td>\n",
       "      <td>640</td>\n",
       "      <td>3.19</td>\n",
       "      <td>4</td>\n",
       "    </tr>\n",
       "    <tr>\n",
       "      <th>4</th>\n",
       "      <td>0</td>\n",
       "      <td>520</td>\n",
       "      <td>2.93</td>\n",
       "      <td>4</td>\n",
       "    </tr>\n",
       "  </tbody>\n",
       "</table>\n",
       "</div>"
      ],
      "text/plain": [
       "   admit  gre   gpa  rank\n",
       "0      0  380  3.61     3\n",
       "1      1  660  3.67     3\n",
       "2      1  800  4.00     1\n",
       "3      1  640  3.19     4\n",
       "4      0  520  2.93     4"
      ]
     },
     "execution_count": 25,
     "metadata": {},
     "output_type": "execute_result"
    }
   ],
   "source": [
    "import pandas as pd\n",
    "import io\n",
    "import boto3\n",
    "\n",
    "def getAddress(filename):     \n",
    "    return 's3://{}/{}'.format('mn-ml-1', filename)\n",
    "\n",
    "schoolFrame = pd.read_csv(getAddress('grad_school.csv'))\n",
    "schoolFrame.head()"
   ]
  },
  {
   "cell_type": "markdown",
   "metadata": {},
   "source": [
    "## Prep"
   ]
  },
  {
   "cell_type": "code",
   "execution_count": 56,
   "metadata": {},
   "outputs": [],
   "source": [
    "from sklearn.preprocessing import MinMaxScaler\n",
    "from sklearn.model_selection import train_test_split\n",
    "\n",
    "features = schoolFrame[['gre','gpa','rank']]\n",
    "scaled = MinMaxScaler().fit_transform(features)\n",
    "scaledFrame = pd.DataFrame(scaled, columns=['gre','gpa','rank']).join(schoolFrame['admit'])\n",
    "#scaledFrame.head()\n",
    "\n",
    "# split the data into training and test sets\n",
    "train, test = train_test_split(scaledFrame, test_size=0.2)"
   ]
  },
  {
   "cell_type": "markdown",
   "metadata": {},
   "source": [
    "## Model"
   ]
  },
  {
   "cell_type": "code",
   "execution_count": 26,
   "metadata": {},
   "outputs": [],
   "source": [
    "import pandas as pd\n",
    "import numpy as np\n",
    "import torch\n",
    "from torch.autograd import Variable\n",
    "from sklearn.metrics import accuracy_score\n",
    "from sklearn.model_selection import train_test_split\n",
    "\n",
    "class LogRegModel(torch.nn.Module):\n",
    "\n",
    "    def __init__(self, input_dim, output_dim):\n",
    "\n",
    "        # call class constructor\n",
    "        super(LogRegModel, self).__init__()\n",
    "\n",
    "        # use the nn package to create a linear layer\n",
    "        self.linear = torch.nn.Linear(input_dim, output_dim)\n",
    "\n",
    "    def forward(self, x):\n",
    "\n",
    "        # First we pass the input through the linear layer (like we did before),\n",
    "        # then we pass that through sigmoid, which implements the logistic\n",
    "        # function.\n",
    "        out = torch.sigmoid(self.linear(x)) \n",
    "        return out\n",
    "\n",
    "def log_reg_fit(x, y, learning_rate, epochs):\n",
    "    \"\"\"\n",
    "    Train a logistic regresson model using SGD and pytorch. \n",
    "    Args:\n",
    "        x - feature array, a numpy array\n",
    "        y - response array, a numpy array\n",
    "        learning_rate - learning rate used in SGD\n",
    "        epochs - number of epochs for the SGD loop\n",
    "    Returns:\n",
    "        The trained model\n",
    "    \"\"\"\n",
    "\n",
    "    # define the number of features that we expect as input\n",
    "    # (in input_dimension), and the number of output features\n",
    "    # (in output_dimension).\n",
    "    input_dimension = x.ndim\n",
    "    output_dimension = y.ndim\n",
    "\n",
    "    # prep the shapes of x and y for pytorch\n",
    "    if input_dimension == 1:\n",
    "        x = x[:, np.newaxis]\n",
    "    else:\n",
    "        input_dimension = x.shape[1]\n",
    "    if output_dimension == 1:\n",
    "        y = y[:, np.newaxis]\n",
    "    else:\n",
    "        output_dimension = y.shape[1]\n",
    "\n",
    "    # initialize the model\n",
    "    model = LogRegModel(input_dimension, output_dimension)\n",
    "\n",
    "    # our error/loss function\n",
    "    criterion = torch.nn.BCELoss()\n",
    "\n",
    "    # define our SGD optimizer\n",
    "    optimiser = torch.optim.SGD(model.parameters(), lr=learning_rate)\n",
    "\n",
    "    # loop over our epochs, similar to our previous implementation\n",
    "    for epoch in range(epochs):\n",
    "\n",
    "        # increment the epoch count\n",
    "        epoch +=1\n",
    "\n",
    "        # define our feature and response variables\n",
    "        features = Variable(torch.from_numpy(x).float())\n",
    "        labels = Variable(torch.from_numpy(y).float())\n",
    "\n",
    "        # clear the gradients\n",
    "        optimiser.zero_grad()\n",
    "\n",
    "        # calculate the predicted values\n",
    "        predictions = model.forward(features)\n",
    "\n",
    "        # calculate our loss\n",
    "        loss = criterion(predictions, labels)\n",
    "\n",
    "        # implement our gradient-based updates to our\n",
    "        # parammeters (putting them \"back\" into the model\n",
    "        # via a \"backward\" update)\n",
    "        loss.backward()\n",
    "        optimiser.step()\n",
    "\n",
    "    return model"
   ]
  },
  {
   "cell_type": "markdown",
   "metadata": {},
   "source": [
    "## Main"
   ]
  },
  {
   "cell_type": "code",
   "execution_count": 54,
   "metadata": {},
   "outputs": [
    {
     "name": "stdout",
     "output_type": "stream",
     "text": [
      "Accuracy:  0.75\n"
     ]
    }
   ],
   "source": [
    "from sklearn.metrics import accuracy_score\n",
    "\n",
    "# train our model\n",
    "model = log_reg_fit(train[['gre','gpa','rank']].values, train['admit'].values, 0.1, 10000)\n",
    "\n",
    "# make predictions on our test data\n",
    "raw_predictions = model(Variable(torch.from_numpy(test[['gre','gpa','rank']].values).float()))\n",
    "predictions = []\n",
    "for prediction in raw_predictions:\n",
    "    if prediction.data.numpy()[0] > 0.50:\n",
    "        predictions.append(1.0)\n",
    "    else:\n",
    "        predictions.append(0.0)\n",
    "\n",
    "# calculate our accuracy\n",
    "acc = accuracy_score(test['admit'].values, predictions)\n",
    "print('Accuracy: ', acc)"
   ]
  },
  {
   "cell_type": "markdown",
   "metadata": {},
   "source": [
    "## ONNX Export"
   ]
  },
  {
   "cell_type": "code",
   "execution_count": 55,
   "metadata": {},
   "outputs": [],
   "source": [
    "dummy_input = Variable(torch.from_numpy(test[['gre','gpa','rank']].values).float())\n",
    "torch.onnx.export(model, dummy_input, \"log_reg.onnx\")"
   ]
  },
  {
   "cell_type": "code",
   "execution_count": null,
   "metadata": {},
   "outputs": [],
   "source": []
  }
 ],
 "metadata": {
  "kernelspec": {
   "display_name": "conda_pytorch_p36",
   "language": "python",
   "name": "conda_pytorch_p36"
  },
  "language_info": {
   "codemirror_mode": {
    "name": "ipython",
    "version": 3
   },
   "file_extension": ".py",
   "mimetype": "text/x-python",
   "name": "python",
   "nbconvert_exporter": "python",
   "pygments_lexer": "ipython3",
   "version": "3.6.5"
  }
 },
 "nbformat": 4,
 "nbformat_minor": 2
}
