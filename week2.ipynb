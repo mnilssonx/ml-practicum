{
 "cells": [
  {
   "cell_type": "markdown",
   "metadata": {},
   "source": [
    "## Load data"
   ]
  },
  {
   "cell_type": "code",
   "execution_count": 28,
   "metadata": {},
   "outputs": [],
   "source": [
    "import pandas as pd\n",
    "import io\n",
    "import boto3\n",
    "\n",
    "def getAddress(filename):     \n",
    "    return 's3://{}/{}'.format('mn-ml-1', filename)\n",
    "\n",
    "trainingFrame = pd.read_csv(getAddress('training.csv'))\n",
    "testFrame = pd.read_csv(getAddress('test.csv'))\n",
    "holdoutFrame = pd.read_csv(getAddress('holdout.csv'))"
   ]
  },
  {
   "cell_type": "markdown",
   "metadata": {},
   "source": [
    "## Multiple linear regression"
   ]
  },
  {
   "cell_type": "code",
   "execution_count": 1,
   "metadata": {},
   "outputs": [],
   "source": [
    "import math\n",
    "\n",
    "import numpy as np\n",
    "from sklearn.preprocessing import MinMaxScaler\n",
    "import torch\n",
    "from torch.autograd import Variable\n",
    "from sklearn.metrics import mean_squared_error\n",
    "\n",
    "class PyTorchLRModel(torch.nn.Module):\n",
    "\n",
    "    def __init__(self, input_dim, output_dim):\n",
    "\n",
    "        # call class constructor\n",
    "        super(PyTorchLRModel, self).__init__()\n",
    "        \n",
    "        # use the nn package to create a linear layer\n",
    "        self.linear = torch.nn.Linear(input_dim, output_dim)\n",
    "\n",
    "    def forward(self, x):\n",
    "\n",
    "        # Define the \"forward\" pass of this model. Think of this\n",
    "        # for now as just the method that takes data input and\n",
    "        # passes this through the model to create output (i.e., a prediction).\n",
    "        out = self.linear(x)\n",
    "        return out\n",
    "\n",
    "def pytorch_lr_fit(x, y, learning_rate, epochs, lambda1, lambda2):\n",
    "    \"\"\"\n",
    "    Train a (potentially multiple) linear regresison model \n",
    "    using SGD and pytorch.\n",
    "    Args:\n",
    "        x - feature array, a numpy array\n",
    "        y - response array, a numpy array\n",
    "        learning_rate - learning rate used in SGD\n",
    "        epochs - number of epochs for the SGD loop \n",
    "        lambda1 - the l1 regularization rate\n",
    "        lambda2 - the l2 regularization rate\n",
    "    Returns:\n",
    "        The trained model\n",
    "    \"\"\"\n",
    "\n",
    "    # define the number of features that we expect as input\n",
    "    # (in input_dimension), and the number of output features\n",
    "    # (in output_dimension). \n",
    "    input_dimension = x.ndim\n",
    "    output_dimension = y.ndim\n",
    "    \n",
    "    # prep the shapes of x and y for pytorch\n",
    "    if input_dimension == 1:\n",
    "        x = x[:, np.newaxis]\n",
    "    else:\n",
    "        input_dimension = x.shape[1]\n",
    "    if output_dimension == 1:\n",
    "        y = y[:, np.newaxis]\n",
    "    else:\n",
    "        output_dimension = y.shape[1]\n",
    "\n",
    "    # initialize the model\n",
    "    model = PyTorchLRModel(input_dimension, output_dimension)\n",
    "    \n",
    "    # our error/loss function\n",
    "    criterion = torch.nn.MSELoss()\n",
    "    \n",
    "    # define our SGD optimizer\n",
    "    optimiser = torch.optim.SGD(model.parameters(), lr=learning_rate, weight_decay=lambda2) \n",
    "\n",
    "    # loop over our epochs, similar to our previous implementation\n",
    "    losses = []\n",
    "    for epoch in range(epochs):\n",
    "\n",
    "        # increment the epoch count\n",
    "        epoch +=1\n",
    "        \n",
    "        # define our feature and response variables\n",
    "        features = Variable(torch.from_numpy(x).float(), requires_grad=True)\n",
    "        response = Variable(torch.from_numpy(y).float())\n",
    "        \n",
    "        # clear the gradients\n",
    "        optimiser.zero_grad()\n",
    "        \n",
    "        # calculate the predicted values\n",
    "        predictions = model.forward(features)\n",
    "        \n",
    "        # calculate our loss\n",
    "        loss = criterion(predictions, response)                \n",
    "        \n",
    "        # add l1 regularization\n",
    "        if lambda1 > 0.0:\n",
    "            params = torch.cat([x.view(-1) for x in model.linear.parameters()])\n",
    "            l1_regularization = lambda1 * torch.norm(params, 1)\n",
    "            loss += l1_regularization\n",
    "\n",
    "        # implement our gradient-based updates to our\n",
    "        # parammeters (putting them \"back\" into the model\n",
    "        # via a \"backward\" update)\n",
    "        loss.backward()\n",
    "        optimiser.step()\n",
    "        \n",
    "        losses.append(loss.data.item())\n",
    "\n",
    "    return model, losses\n",
    "\n"
   ]
  },
  {
   "cell_type": "markdown",
   "metadata": {},
   "source": [
    "## Prep"
   ]
  },
  {
   "cell_type": "code",
   "execution_count": 2,
   "metadata": {},
   "outputs": [
    {
     "ename": "NameError",
     "evalue": "name 'trainingFrame' is not defined",
     "output_type": "error",
     "traceback": [
      "\u001b[0;31m---------------------------------------------------------------------------\u001b[0m",
      "\u001b[0;31mNameError\u001b[0m                                 Traceback (most recent call last)",
      "\u001b[0;32m<ipython-input-2-f6b6684601eb>\u001b[0m in \u001b[0;36m<module>\u001b[0;34m()\u001b[0m\n\u001b[1;32m      5\u001b[0m \u001b[0;31m# scale the features and response\u001b[0m\u001b[0;34m\u001b[0m\u001b[0;34m\u001b[0m\u001b[0m\n\u001b[1;32m      6\u001b[0m \u001b[0mscaler\u001b[0m \u001b[0;34m=\u001b[0m \u001b[0mMinMaxScaler\u001b[0m\u001b[0;34m(\u001b[0m\u001b[0;34m)\u001b[0m\u001b[0;34m\u001b[0m\u001b[0m\n\u001b[0;32m----> 7\u001b[0;31m \u001b[0mtrain_data\u001b[0m \u001b[0;34m=\u001b[0m \u001b[0mscaler\u001b[0m\u001b[0;34m.\u001b[0m\u001b[0mfit_transform\u001b[0m\u001b[0;34m(\u001b[0m\u001b[0mtrainingFrame\u001b[0m\u001b[0;34m[\u001b[0m\u001b[0mcols\u001b[0m\u001b[0;34m]\u001b[0m\u001b[0;34m)\u001b[0m\u001b[0;34m\u001b[0m\u001b[0m\n\u001b[0m\u001b[1;32m      8\u001b[0m \u001b[0;34m\u001b[0m\u001b[0m\n\u001b[1;32m      9\u001b[0m \u001b[0;31m# read in and pre-process our test data\u001b[0m\u001b[0;34m\u001b[0m\u001b[0;34m\u001b[0m\u001b[0m\n",
      "\u001b[0;31mNameError\u001b[0m: name 'trainingFrame' is not defined"
     ]
    }
   ],
   "source": [
    "# pick out our features and response for training\n",
    "cols = ['bmi', 'map', 'ldl', 'hdl', 'tch', 'glu', 'ltg', 'y']\n",
    "num_features = len(cols[0:-1])\n",
    "\n",
    "# scale the features and response\n",
    "scaler = MinMaxScaler()\n",
    "train_data = scaler.fit_transform(trainingFrame[cols])\n",
    "\n",
    "# read in and pre-process our test data\n",
    "test_data = scaler.transform(testFrame[cols])\n",
    "\n",
    "# test input for the model and observation tensors\n",
    "test_input = Variable(torch.from_numpy(test_data[:, 0:num_features]).float())"
   ]
  },
  {
   "cell_type": "markdown",
   "metadata": {},
   "source": [
    "## Plotting loss"
   ]
  },
  {
   "cell_type": "code",
   "execution_count": 31,
   "metadata": {},
   "outputs": [
    {
     "name": "stdout",
     "output_type": "stream",
     "text": [
      "RMSE: 0.1669\n"
     ]
    },
    {
     "data": {
      "text/plain": [
       "<matplotlib.axes._subplots.AxesSubplot at 0x7f99fbcfa668>"
      ]
     },
     "execution_count": 31,
     "metadata": {},
     "output_type": "execute_result"
    },
    {
     "data": {
      "image/png": "[encoded data removed]",
      "text/plain": [
       "<Figure size 432x288 with 1 Axes>"
      ]
     },
     "metadata": {},
     "output_type": "display_data"
    }
   ],
   "source": [
    "# fit our models\n",
    "model, losses = pytorch_lr_fit(np.array(train_data[:, 0:num_features]), np.array(train_data[:, num_features]), 0.1, 1000, 0.0, 0.0)\n",
    "\n",
    "# make our predictions by running the test input \"forward\"\n",
    "# through the models\n",
    "predictions = model(test_input)\n",
    "\n",
    "# calculate our RMSE\n",
    "rmse = math.sqrt(mean_squared_error(predictions.data.numpy(), test_data[:, num_features]))\n",
    "\n",
    "print('RMSE: %0.4f'% rmse)\n",
    "\n",
    "pd.DataFrame(losses, columns = ['loss']).plot(logy=True)"
   ]
  },
  {
   "cell_type": "markdown",
   "metadata": {},
   "source": [
    "## L2 trend"
   ]
  },
  {
   "cell_type": "code",
   "execution_count": 32,
   "metadata": {},
   "outputs": [
    {
     "data": {
      "text/plain": [
       "<matplotlib.axes._subplots.AxesSubplot at 0x7f99fbcd9320>"
      ]
     },
     "execution_count": 32,
     "metadata": {},
     "output_type": "execute_result"
    },
    {
     "data": {
      "image/png": "[encoded data removed]",
      "text/plain": [
       "<Figure size 432x288 with 1 Axes>"
      ]
     },
     "metadata": {},
     "output_type": "display_data"
    }
   ],
   "source": [
    "rmses = []\n",
    "rates = np.arange(0.001, 0.02, 0.001) \n",
    "#rates = np.linspace(0.0005,0.02,100)\n",
    "\n",
    "for l2 in rates:\n",
    "    # fit our models\n",
    "    model, losses = pytorch_lr_fit(np.array(train_data[:, 0:num_features]), np.array(train_data[:, num_features]), 0.1, 1000, 0, l2)\n",
    "\n",
    "    # make our predictions by running the test input \"forward\"\n",
    "    # through the models\n",
    "    predictions = model(test_input)\n",
    "\n",
    "    # calculate our RMSE\n",
    "    rmse = math.sqrt(mean_squared_error(predictions.data.numpy(), test_data[:, num_features]))\n",
    "    rmses.append(rmse)\n",
    "\n",
    "l2Frame = pd.DataFrame({ 'rmse': rmses, 'rate': rates }, columns = ['rmse', 'rate'])\n",
    "l2Frame.plot(x='rate', y='rmse')"
   ]
  },
  {
   "cell_type": "code",
   "execution_count": null,
   "metadata": {},
   "outputs": [],
   "source": []
  }
 ],
 "metadata": {
  "kernelspec": {
   "display_name": "conda_pytorch_p36",
   "language": "python",
   "name": "conda_pytorch_p36"
  },
  "language_info": {
   "codemirror_mode": {
    "name": "ipython",
    "version": 3
   },
   "file_extension": ".py",
   "mimetype": "text/x-python",
   "name": "python",
   "nbconvert_exporter": "python",
   "pygments_lexer": "ipython3",
   "version": "3.6.5"
  }
 },
 "nbformat": 4,
 "nbformat_minor": 2
}
